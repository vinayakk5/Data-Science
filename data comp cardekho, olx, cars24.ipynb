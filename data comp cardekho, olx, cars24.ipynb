{
 "cells": [
  {
   "cell_type": "code",
   "execution_count": 1,
   "metadata": {},
   "outputs": [],
   "source": [
    "from bs4 import BeautifulSoup as bs\n",
    "from selenium import webdriver\n",
    "import urllib\n",
    "from urllib.request import Request, urlopen\n",
    "import ssl\n",
    "import time\n",
    "import numpy\n",
    "from openpyxl import Workbook\n",
    "import openpyxl"
   ]
  },
  {
   "cell_type": "code",
   "execution_count": 2,
   "metadata": {},
   "outputs": [],
   "source": [
    "from selenium.webdriver.common.keys import Keys\n",
    "from selenium.webdriver.chrome.options import Options\n",
    "from selenium.webdriver.support.wait import WebDriverWait\n",
    "from selenium.webdriver.common.by import By\n",
    "from selenium.webdriver.support import expected_conditions as EC"
   ]
  },
  {
   "cell_type": "raw",
   "metadata": {},
   "source": [
    "book=Workbook()\n",
    "sheet=book.active"
   ]
  },
  {
   "cell_type": "code",
   "execution_count": 3,
   "metadata": {},
   "outputs": [
    {
     "name": "stderr",
     "output_type": "stream",
     "text": [
      "C:\\Users\\Admin\\Anaconda3\\lib\\site-packages\\ipykernel_launcher.py:2: DeprecationWarning: Call to deprecated function get_sheet_by_name (Use wb[sheetname]).\n",
      "  \n"
     ]
    }
   ],
   "source": [
    "wb = openpyxl.load_workbook('Used_Car_Data_.xlsx')\n",
    "ws = wb.get_sheet_by_name('Sheet')"
   ]
  },
  {
   "cell_type": "raw",
   "metadata": {},
   "source": [
    "# creating outer formater of excel file (headings)\n",
    "import xlsxwriter\n",
    "workbook=xlsxwriter.Workbook('Used_Car_Data_.xlsx')\n",
    "worksheet=workbook.add_worksheet()\n",
    "conten=[\"S.No\",\"Car\",\"Car Model\",\"Price\",\"Kilometer Traveled\",\"Place\",\"Source\"]\n",
    "alp=[\"A\",\"B\",\"C\",'D',\"E\",\"F\",\"G\"]\n",
    "for i in range(1,8):\n",
    "    a=str(str(alp[i-1])+\"1\")\n",
    "    b=str(conten[i-1])\n",
    "    worksheet.write(a,b)\n",
    "    '''\n",
    "for i in range(5,9):\n",
    "    a=str(str(alp[i-1])+\"2\")\n",
    "    b=str(conten[i-5])\n",
    "    worksheet.write(a,b)\n",
    "for i in range(9,13):\n",
    "    a=str(str(alp[i-1])+\"2\")\n",
    "    b=str(conten[i-9])\n",
    "    worksheet.write(a,b)\n",
    "a=str(\"A\"+\"1\")\n",
    "b=str(\"DATA FEOM CARDEKHO\")\n",
    "worksheet.write(a,b)\n",
    "a=str(\"G\"+\"1\")\n",
    "b=str(\"DATA FEOM OLX\")\n",
    "worksheet.write(a,b)\n",
    "a=str(\"M\"+\"1\")\n",
    "b=str(\"DATA FEOM CAES24\")\n",
    "worksheet.write(a,b)'''"
   ]
  },
  {
   "cell_type": "code",
   "execution_count": null,
   "metadata": {},
   "outputs": [],
   "source": []
  },
  {
   "cell_type": "code",
   "execution_count": 4,
   "metadata": {},
   "outputs": [],
   "source": [
    "# Ignore SSL certificate errors\n",
    "ctx = ssl.create_default_context()\n",
    "ctx.check_hostname = False\n",
    "ctx.verify_mode = ssl.CERT_NONE"
   ]
  },
  {
   "cell_type": "code",
   "execution_count": 66,
   "metadata": {
    "scrolled": true
   },
   "outputs": [
    {
     "name": "stdout",
     "output_type": "stream",
     "text": [
      "CAR NAME:audi\n",
      "CAR MODEL:a6\n",
      "FROM YEAR:2014\n",
      "TO YEAR2020\n",
      "FULE TYPE:l\n",
      "CITY:delhi\n"
     ]
    },
    {
     "data": {
      "text/plain": [
       "'https://www.cardekho.com/used-audi+2014-2020-year+cars+in+delhi'"
      ]
     },
     "execution_count": 66,
     "metadata": {},
     "output_type": "execute_result"
    }
   ],
   "source": [
    "carname=input(\"CAR NAME:\")\n",
    "carmodel=input(\"CAR MODEL:\")\n",
    "if \" \" in carname:\n",
    "    cname=carname.split()\n",
    "    cname=\"-\".join(cname)\n",
    "else:\n",
    "    cname=carname\n",
    "yup=carmodel\n",
    "if \" \" in carmodel:\n",
    "    carmodel=carmodel.split()\n",
    "    carmodel=\"-\".join(carmodel)\n",
    "cmodel=\"-\"+carmodel\n",
    "fyear=input(\"FROM YEAR:\")\n",
    "tyear=input(\"TO YEAR\")\n",
    "fuletype=input(\"FULE TYPE:\")\n",
    "city=input(\"CITY:\")\n",
    "#url=\"https://www.cardekho.com/used-\"+carname+\"-\"+carmodel+\"+\"+fyear+\"-\"+tyear+\"-year+\"+fuletype+\"+cars+in+\"+city\n",
    "url=\"https://www.cardekho.com/used-\"+cname+\"+\"+fyear+\"-\"+tyear+\"-year+cars+in+\"+city\n",
    "url"
   ]
  },
  {
   "cell_type": "code",
   "execution_count": 67,
   "metadata": {},
   "outputs": [
    {
     "data": {
      "text/plain": [
       "'audi-a6'"
      ]
     },
     "execution_count": 67,
     "metadata": {},
     "output_type": "execute_result"
    }
   ],
   "source": [
    "carname+cmodel\n"
   ]
  },
  {
   "cell_type": "raw",
   "metadata": {},
   "source": [
    "t=web.find_element_by_xpath('//*[@id=\"rf01\"]/div[1]/div/div/main/div[1]/div[1]/div[3]/div[1]')"
   ]
  },
  {
   "cell_type": "raw",
   "metadata": {},
   "source": [
    "#web.execute_script('window.scrollTo(0, document.body.scrollHeight)')"
   ]
  },
  {
   "cell_type": "code",
   "execution_count": 68,
   "metadata": {},
   "outputs": [
    {
     "data": {
      "text/plain": [
       "'https://www.cardekho.com/used-audi+2014-2020-year+cars+in+delhi'"
      ]
     },
     "execution_count": 68,
     "metadata": {},
     "output_type": "execute_result"
    }
   ],
   "source": [
    "url"
   ]
  },
  {
   "cell_type": "code",
   "execution_count": 69,
   "metadata": {},
   "outputs": [],
   "source": [
    "web=webdriver.Chrome()\n",
    "web.get(url)\n",
    "web.execute_script('window.scrollTo(0, document.body.scrollHeight)')\n",
    "time.sleep(3)"
   ]
  },
  {
   "cell_type": "code",
   "execution_count": 70,
   "metadata": {},
   "outputs": [],
   "source": [
    "for i in range(True):\n",
    "    try:\n",
    "        web.execute_script('window.scrollTo(0, document.body.scrollHeight)')\n",
    "        time.sleep(3)\n",
    "    except:\n",
    "        break\n",
    "        pass\n",
    "#html = urlopen(req).read()\n",
    "time.sleep(5)\n",
    "t=web.find_element_by_class_name(\"listitems\")\n",
    "soup=bs(t.get_attribute('innerHTML'),\"html.parser\")\n"
   ]
  },
  {
   "cell_type": "code",
   "execution_count": 71,
   "metadata": {},
   "outputs": [],
   "source": [
    "i=2\n",
    "price=[]\n",
    "fuletype=[]\n",
    "kmtraveled=[]\n",
    "variant=[]\n",
    "carn=[]\n",
    "carm=[]\n",
    "year=[]\n",
    "about=[]\n",
    "place=[]\n",
    "for data in soup.find_all(\"div\",{\"class\":\"gsc_col-sm-12 gsc_col-md-12 trustmarkbox holder\"}):\n",
    "    detail.append(data.text)\n",
    "    #print(data)\n",
    "    for aa in data.find_all(\"div\",{\"class\":\"title\"}):\n",
    "        aa=aa.text\n",
    "        about.append(aa)\n",
    "    for div in data.find_all(\"div\",{\"class\":\"dotlist truncate\"}):\n",
    "        st=div.text\n",
    "        ind=st.index(\"km\")\n",
    "        kmtraveled.append(div.text[:ind+2])\n",
    "        sst=div.text.split(\"\\xa0\")\n",
    "        ftype=sst[1]\n",
    "        fuletype.append(ftype[:-2])\n",
    "    for span in data.find_all(\"span\",{\"class\":\"amnt\"}):\n",
    "        price.append(span.text)\n",
    "    for span in data.find_all(\"span\",{\"class\":\"truncate\"}):\n",
    "        place.append(span.text)\n",
    "        '''\n",
    "    a=\"A\"+str(i+1)\n",
    "    b=str(i)\n",
    "    worksheet.write(a,b)\n",
    "    a=\"B\"+str(i+1)\n",
    "    b=about[-1]\n",
    "    worksheet.write(a,b)\n",
    "    a=\"C\"+str(i+1)\n",
    "    b=price[-1]\n",
    "    worksheet.write(a,b)\n",
    "    a=\"D\"+str(i+1)\n",
    "    b=kmtraveled[-1]\n",
    "    worksheet.write(a,b)\n",
    "    a=\"E\"+str(i+1)\n",
    "    b=str(\"Cardekho.com\")\n",
    "    worksheet.write(a,b)\n",
    "    i=i+1'''\n",
    "        \n",
    "        "
   ]
  },
  {
   "cell_type": "code",
   "execution_count": 72,
   "metadata": {
    "scrolled": true
   },
   "outputs": [],
   "source": [
    "aboutu=[]\n",
    "for i in about:\n",
    "    if \"New\" in i :\n",
    "        aboutu.append(i.replace(\"New\",\"\"))\n",
    "    else:\n",
    "        aboutu.append(i)\n",
    "for i in aboutu:\n",
    "    i=i.split()\n",
    "    year.append(int(i[0]))\n",
    "    carn.append(i[1])\n",
    "    ca=i[2]\n",
    "    carm.append(ca)\n",
    "    cv=i[3:]\n",
    "    cv=\" \".join(cv)\n",
    "    variant.append(cv)\n",
    "price\n",
    "priceu=[]\n",
    "for i in price:\n",
    "    i=i.split()\n",
    "    i=i[0]\n",
    "    i=float(i)\n",
    "    i=int(i*100000)\n",
    "    priceu.append(i)\n",
    "place\n",
    "placeu=[]\n",
    "for i in place:\n",
    "    i=i[4:]+\" \"+city\n",
    "    placeu.append(i)\n",
    "#placeu"
   ]
  },
  {
   "cell_type": "code",
   "execution_count": 73,
   "metadata": {},
   "outputs": [
    {
     "data": {
      "text/plain": [
       "175"
      ]
     },
     "execution_count": 73,
     "metadata": {},
     "output_type": "execute_result"
    }
   ],
   "source": [
    "len(placeu)"
   ]
  },
  {
   "cell_type": "code",
   "execution_count": 74,
   "metadata": {},
   "outputs": [
    {
     "data": {
      "text/plain": [
       "89"
      ]
     },
     "execution_count": 74,
     "metadata": {},
     "output_type": "execute_result"
    }
   ],
   "source": [
    "len(carn)"
   ]
  },
  {
   "cell_type": "code",
   "execution_count": 75,
   "metadata": {},
   "outputs": [
    {
     "data": {
      "text/plain": [
       "89"
      ]
     },
     "execution_count": 75,
     "metadata": {},
     "output_type": "execute_result"
    }
   ],
   "source": [
    "len(carm)"
   ]
  },
  {
   "cell_type": "code",
   "execution_count": 76,
   "metadata": {},
   "outputs": [
    {
     "data": {
      "text/plain": [
       "89"
      ]
     },
     "execution_count": 76,
     "metadata": {},
     "output_type": "execute_result"
    }
   ],
   "source": [
    "len(variant)"
   ]
  },
  {
   "cell_type": "code",
   "execution_count": 77,
   "metadata": {},
   "outputs": [
    {
     "data": {
      "text/plain": [
       "89"
      ]
     },
     "execution_count": 77,
     "metadata": {},
     "output_type": "execute_result"
    }
   ],
   "source": [
    "len(fuletype)"
   ]
  },
  {
   "cell_type": "code",
   "execution_count": 78,
   "metadata": {},
   "outputs": [
    {
     "data": {
      "text/plain": [
       "89"
      ]
     },
     "execution_count": 78,
     "metadata": {},
     "output_type": "execute_result"
    }
   ],
   "source": [
    "len(year)"
   ]
  },
  {
   "cell_type": "code",
   "execution_count": 79,
   "metadata": {},
   "outputs": [
    {
     "data": {
      "text/plain": [
       "89"
      ]
     },
     "execution_count": 79,
     "metadata": {},
     "output_type": "execute_result"
    }
   ],
   "source": [
    "len(carm)"
   ]
  },
  {
   "cell_type": "raw",
   "metadata": {},
   "source": [
    "priceu"
   ]
  },
  {
   "cell_type": "code",
   "execution_count": 80,
   "metadata": {},
   "outputs": [
    {
     "data": {
      "text/plain": [
       "89"
      ]
     },
     "execution_count": 80,
     "metadata": {},
     "output_type": "execute_result"
    }
   ],
   "source": [
    "len(kmtraveled)"
   ]
  },
  {
   "cell_type": "code",
   "execution_count": 81,
   "metadata": {},
   "outputs": [],
   "source": [
    "doc=[]\n",
    "for i in range(len(priceu)):\n",
    "    li=[carn[i],carm[i],variant[i],fuletype[i],year[i],str(priceu[i])+\" \"+\"Rs.\",kmtraveled[i],placeu[i],\"cardekho.com\"]\n",
    "    doc.append(li)\n",
    "    "
   ]
  },
  {
   "cell_type": "code",
   "execution_count": 83,
   "metadata": {},
   "outputs": [
    {
     "data": {
      "text/plain": [
       "89"
      ]
     },
     "execution_count": 83,
     "metadata": {},
     "output_type": "execute_result"
    }
   ],
   "source": [
    "len(doc)"
   ]
  },
  {
   "cell_type": "code",
   "execution_count": 21,
   "metadata": {},
   "outputs": [],
   "source": [
    "docu=[]\n",
    "for i in doc:\n",
    "    if \" \" in carname or \" \" in yup:\n",
    "        if str(carname.split()[0]).lower() in str(i[0]).lower():\n",
    "            docu.append(i)\n",
    "    else:\n",
    "        if str(carname).lower() in str(i[0]).lower():\n",
    "            docu.append(i)"
   ]
  },
  {
   "cell_type": "code",
   "execution_count": 22,
   "metadata": {},
   "outputs": [
    {
     "data": {
      "text/plain": [
       "20"
      ]
     },
     "execution_count": 22,
     "metadata": {},
     "output_type": "execute_result"
    }
   ],
   "source": [
    "len(docu)"
   ]
  },
  {
   "cell_type": "code",
   "execution_count": 23,
   "metadata": {},
   "outputs": [],
   "source": [
    "docu=sorted(docu)\n",
    "#conten=[\"Car Name\",\"Car Model\",\"Year\",\"Price\",\"Kilometer Traveled\",\"Place\",\"Source\"]\n",
    "#ws.append(conten)\n",
    "for row in docu:\n",
    "    ws.append(row)\n",
    "#book.save(\"Used_Car_Data_.xlsx\")\n",
    "wb.save(\"Used_Car_Data_.xlsx\")"
   ]
  },
  {
   "cell_type": "raw",
   "metadata": {},
   "source": [
    "'''\n",
    "d=0\n",
    "for i in range(len(priceu)):\n",
    "    a=\"A\"+str(i+1)\n",
    "    b=str(i-1)\n",
    "    worksheet.write(a,b)\n",
    "    i=i+1\n",
    "for d in range(6):\n",
    "    a=\"A\"+str(i+1)\n",
    "    b=str(i-1)\n",
    "    worksheet.write(a,b)\n",
    "    for j in range(len(priceu)):\n",
    "        if d==0:\n",
    "            a=\"B\"+str(j+2)\n",
    "            b=doc[j][d]\n",
    "            worksheet.write(a,b)\n",
    "        if d==1:\n",
    "            a=\"C\"+str(j+2)\n",
    "            b=doc[j][d]\n",
    "            worksheet.write(a,b)\n",
    "        if d==2:\n",
    "            a=\"D\"+str(j+2)\n",
    "            b=doc[j][d]\n",
    "            worksheet.write(a,b)\n",
    "        if d==3:\n",
    "            a=\"E\"+str(j+2)\n",
    "            b=doc[j][d]\n",
    "            worksheet.write(a,b)\n",
    "        if d==4:\n",
    "            a=\"F\"+str(j+2)\n",
    "            b=doc[j][d]\n",
    "            worksheet.write(a,b)\n",
    "        if d==5:\n",
    "            a=\"G\"+str(j+2)\n",
    "            b=doc[j][d]\n",
    "            worksheet.write(a,b)\n",
    "            '''"
   ]
  },
  {
   "cell_type": "raw",
   "metadata": {},
   "source": [
    "workbook.close()"
   ]
  },
  {
   "cell_type": "raw",
   "metadata": {},
   "source": [
    "  import xlsxwriter"
   ]
  },
  {
   "cell_type": "raw",
   "metadata": {},
   "source": [
    "workbook=xlsxwriter.Workbook('Used_Car_Data_Alto.xlsx')\n",
    "worksheet=workbook.add_worksheet()"
   ]
  },
  {
   "cell_type": "raw",
   "metadata": {},
   "source": [
    "conten=[\"S.No\",\"Car Details\",\"Price\",\"Kilometer Traveled\"]\n",
    "alp=[\"A\",\"B\",\"C\",'D','E']\n",
    "for i in range(1,5):\n",
    "    a=str(str(alp[i-1])+\"1\")\n",
    "    b=str(conten[i-1])\n",
    "    worksheet.write(a,b)  "
   ]
  },
  {
   "cell_type": "raw",
   "metadata": {},
   "source": [
    "for i in range(1,len(price)+1):\n",
    "    a=\"A\"+str(i+1)\n",
    "    b=str(i)\n",
    "    worksheet.write(a,b)\n",
    "    a=\"B\"+str(i+1)\n",
    "    b=about[-1]\n",
    "    worksheet.write(a,b)\n",
    "    a=\"C\"+str(i+1)\n",
    "    b=price[-1]\n",
    "    worksheet.write(a,b)\n",
    "    a=\"D\"+str(i+1)\n",
    "    b=kmtraveled[-1]\n",
    "    worksheet.write(a,b)\n",
    "    "
   ]
  },
  {
   "cell_type": "code",
   "execution_count": null,
   "metadata": {},
   "outputs": [],
   "source": []
  },
  {
   "cell_type": "code",
   "execution_count": null,
   "metadata": {},
   "outputs": [],
   "source": []
  },
  {
   "cell_type": "code",
   "execution_count": 24,
   "metadata": {},
   "outputs": [
    {
     "data": {
      "text/plain": [
       "'jaguar-delhi'"
      ]
     },
     "execution_count": 24,
     "metadata": {},
     "output_type": "execute_result"
    }
   ],
   "source": [
    "carname=carname\n",
    "carmodel=carmodel\n",
    "year=tyear\n",
    "fuletype=fuletype\n",
    "city=city\n",
    "#final=carname+\" \"+carmodel+\" \"+year+\" \"+fuletype+\" \"+city\n",
    "final=carname+\" \"+city\n",
    "final=final.split()\n",
    "final=\"-\".join(final)\n",
    "final"
   ]
  },
  {
   "cell_type": "raw",
   "metadata": {},
   "source": [
    "carname+carmodel\n",
    "url=\"https://www.olx.in/olx-autos-cars_c5/q-\"+final+\"?isSearchCall=true\"\n",
    "web=webdriver.Chrome()\n",
    "web.get(url)\n"
   ]
  },
  {
   "cell_type": "code",
   "execution_count": 25,
   "metadata": {},
   "outputs": [],
   "source": [
    "url=\"https://www.olx.in/olx-autos-cars_c5/q-\"+final+\"?isSearchCall=true\"\n",
    "web=webdriver.Chrome()\n",
    "web.get(url)\n",
    "\n",
    "time.sleep(3)\n",
    "while True:\n",
    "    try:\n",
    "        box = WebDriverWait(web, 10).until(EC.presence_of_element_located((By.XPATH,\"//button[@data-aut-id='btnLoadMore']\")))\n",
    "        box.click() \n",
    "    except:\n",
    "        break\n",
    "time.sleep(5)\n",
    "t=web.find_element_by_xpath('//*[@id=\"container\"]/main/div/div/section/div/div/div[4]/div[2]/div/div[2]')\n",
    "soup=bs(t.get_attribute('innerHTML'),\"html.parser\")"
   ]
  },
  {
   "cell_type": "code",
   "execution_count": null,
   "metadata": {},
   "outputs": [],
   "source": []
  },
  {
   "cell_type": "code",
   "execution_count": null,
   "metadata": {},
   "outputs": [],
   "source": []
  },
  {
   "cell_type": "code",
   "execution_count": 26,
   "metadata": {},
   "outputs": [],
   "source": [
    "d=[]\n",
    "variant1=[]\n",
    "fuletype1=[]\n",
    "price1=[]\n",
    "carn1=[]\n",
    "carm1=[]\n",
    "kmtraveled1=[]\n",
    "about1=[]\n",
    "year1=[]\n",
    "place1=[]\n",
    "detail1=[]\n",
    "for tag in soup.find_all(\"ul\",{\"class\":\"rl3f9 _3mXOU\"}):\n",
    "    for data in tag.find_all(\"div\",{\"class\":\"IKo3_\"}):\n",
    "        d.append(data)\n",
    "        detail1.append(data.text)\n",
    "        #print(data)\n",
    "        for span in data.find_all(\"span\",{\"class\":\"_89yzn\"}):\n",
    "            price1.append(span.text)\n",
    "        for span in data.find_all(\"span\",{\"class\":\"_2TVI3\"}):\n",
    "            oo=span.text.split(\"-\")\n",
    "            year1.append(int(oo[0][:4]))\n",
    "            kmtraveled1.append(oo[1]) \n",
    "        for span in data.find_all(\"span\",{\"class\":\"_2tW1I\"}):\n",
    "            about1.append(span.text)\n",
    "        for span in data.find_all(\"span\",{\"class\":\"tjgMj\"}):\n",
    "            place1.append(span.text)\n",
    "        '''\n",
    "    a=\"A\"+str(i+1)\n",
    "    b=str(i)\n",
    "    worksheet.write(a,b)\n",
    "    a=\"B\"+str(i+1)\n",
    "    b=about1[-1]\n",
    "    worksheet.write(a,b)\n",
    "    a=\"C\"+str(i+1)\n",
    "    b=price1[-1]\n",
    "    worksheet.write(a,b)\n",
    "    a=\"D\"+str(i+1)\n",
    "    b=kmtraveled1[-1]\n",
    "    worksheet.write(a,b)\n",
    "    a=\"E\"+str(i+1)\n",
    "    b=str(\"Olx.com\")\n",
    "    worksheet.write(a,b)\n",
    "    i=i+1\n",
    "    '''"
   ]
  },
  {
   "cell_type": "code",
   "execution_count": 27,
   "metadata": {},
   "outputs": [],
   "source": [
    "priceu1=[]\n",
    "for i in price1:\n",
    "    i=i.replace(\",\",\"\")\n",
    "    i=i[2:]\n",
    "    i=int(i)\n",
    "    priceu1.append(i)\n",
    "about1\n",
    "aboutu1=[]\n",
    "for i in about1:\n",
    "    if \"New\" in i :\n",
    "        aboutu1.append(i.replace(\"New\",\"\"))\n",
    "    else:\n",
    "        aboutu1.append(i)\n",
    "for i in aboutu1:\n",
    "    i=i.split(\" \")\n",
    "    carn1.append(i[0])\n",
    "    fule=i[-1]\n",
    "    if fule==\"Diesel\" or fule==\"Petrol\":\n",
    "        fuletype1.append(fule)\n",
    "    elif \"Diesel\" in i:\n",
    "        fuletype1.append(\"Diesel\")\n",
    "    elif \"Petrol\" in i:\n",
    "        fuletype1.append(\"Petrol\")\n",
    "    else:\n",
    "        fuletype1.append(\"NA\")\n",
    "    ia=i[:-1]\n",
    "    ia=ia[:-1]\n",
    "    try:\n",
    "        model=ia[1]\n",
    "    except:\n",
    "        model=\"NA\"\n",
    "    cv=ia[2:]\n",
    "    cv=\" \".join(cv)\n",
    "    carm1.append(model)\n",
    "    if len(cv)<1:\n",
    "        variant1.append(\"NA\")\n",
    "    else:\n",
    "        variant1.append(cv)\n"
   ]
  },
  {
   "cell_type": "code",
   "execution_count": 28,
   "metadata": {},
   "outputs": [
    {
     "data": {
      "text/plain": [
       "['Jaguar XF 2.2 Litre Luxury, 2014, Diesel',\n",
       " 'Jaguar XF Portfolio 2.0, 2018, Diesel',\n",
       " 'Jaguar XF 2.2 Diesel Luxury, 2013, Diesel',\n",
       " 'Jaguar XJ L 3.0 Diesel, 2011, Diesel',\n",
       " 'Jaguar XJ 3.0L Premium Luxury, 2011, Diesel',\n",
       " 'Jaguar Others, 2011, Petrol',\n",
       " 'Jaguar XF, 2011, Diesel',\n",
       " 'Jaguar XF 2.0 Petrol Portfolio, 2016, Petrol',\n",
       " 'Jaguar XF 3.0 Litre S Premium Luxury, 2013, Diesel',\n",
       " 'Jaguar XJ L 3.0 V6 Portfolio, 2014, Diesel',\n",
       " 'Jaguar XF Diesel S V6, 2014, Diesel',\n",
       " 'Jaguar XF Petrol V8, 2010, Petrol',\n",
       " 'Jaguar XJ 2009-2013 5.0 L V8 Supercharged, 2010, Petrol',\n",
       " 'Jaguar XF Diesel S V6, 2013, Diesel',\n",
       " 'Jaguar XF 2.2 Diesel, 2019, Diesel',\n",
       " 'Jaguar XJ L 3.0 Diesel, 2011, Diesel',\n",
       " 'Jaguar XF 3.0 Litre S Premium Luxury, 2012, Diesel',\n",
       " 'Jaguar XJ L 3.0 Diesel, 2011, Diesel',\n",
       " 'Jaguar XF Portfolio 2.0, 2018, Diesel',\n",
       " 'Jaguar XF 2.2 Diesel, 2015, Diesel',\n",
       " 'Jaguar XF 2.2 Diesel Luxury, 2014, Diesel',\n",
       " 'Jaguar XF 2.2 Litre Luxury, 2013, Diesel',\n",
       " 'Jaguar XJ L 3.0 Diesel, 2011, Diesel',\n",
       " 'Jaguar XJ L 3.0 Diesel, 2011, Diesel',\n",
       " 'Jaguar XE 2.0L Diesel Portfolio, 2017, Diesel',\n",
       " 'Jaguar XF 2.2 Diesel Luxury, 2014, Diesel',\n",
       " 'Jaguar XJ L 3.0 Diesel, 2014, Diesel',\n",
       " 'Jaguar XF 2.2 Diesel Luxury, 2013, Diesel',\n",
       " 'Jaguar XJ L 2.0 Portfolio, 2016, Petrol',\n",
       " 'Jaguar XJ L 3.0 Diesel, 2017, Diesel',\n",
       " 'Jaguar XJ 3.0L Premium Luxury, 2014, Diesel',\n",
       " 'Jaguar XF Petrol 2.0, 2019, Petrol',\n",
       " 'Jaguar XJ L 3.0 V6 Portfolio, 2014, Diesel',\n",
       " 'Jaguar XF Petrol V8, 2011, Petrol',\n",
       " 'Jaguar XJ L 3.0 V6, 2012, Diesel',\n",
       " 'Jaguar XJ 2.0L Portfolio, 2017, Petrol',\n",
       " 'Jaguar XF 2.2 Diesel Luxury, 2014, Diesel',\n",
       " 'Jaguar F-Pace Prestige 2.0 AWD, 2018, Diesel',\n",
       " 'Jaguar XJ L 3.0 V6 Portfolio, 2016, Diesel',\n",
       " 'Jaguar XF 2.2 Diesel, 2013, Diesel',\n",
       " 'Jaguar XJ L 3.0 Diesel, 2014, Diesel',\n",
       " 'Jaguar XJ L 3.0 V6, 2016, Petrol',\n",
       " 'Jaguar XF 2.2 Diesel, 2013, Diesel',\n",
       " 'Jaguar XJ L 2.0 Portfolio, 2016, Petrol',\n",
       " 'Jaguar XF 2.2 Diesel Luxury, 2015, Diesel',\n",
       " 'Jaguar XF Diesel S V6, 2012, Diesel',\n",
       " 'Jaguar XJ 3.0L Portfolio, 2014, Diesel',\n",
       " 'Jaguar XF 2.2 Diesel, 2014, Diesel',\n",
       " 'Jaguar XJ 3.0L Portfolio, 2014, Diesel',\n",
       " 'Jaguar XF 2.2 Diesel, 2019, Diesel',\n",
       " 'Jaguar XF 2.2 Diesel Luxury, 2014, Diesel',\n",
       " 'Jaguar XF 2.2 Diesel, 2014, Diesel',\n",
       " 'Jaguar XF 2.2 Litre Luxury, 2014, Diesel',\n",
       " 'Jaguar XF 3.0 Litre S Premium Luxury, 2015, Diesel',\n",
       " 'Jaguar Others, 2019, Petrol',\n",
       " 'Jaguar XF 2.0 Petrol Portfolio, 2019, Petrol',\n",
       " 'Jaguar XF 2.2 Diesel, 2013, Diesel',\n",
       " 'Jaguar Others, 2019, Petrol',\n",
       " 'Jaguar XF 2.2 Diesel, 2015, Diesel',\n",
       " 'Jaguar XF 2.2 Diesel Luxury, 2013, Diesel',\n",
       " 'Jaguar XF Diesel S V6, 2013, Diesel',\n",
       " 'Jaguar XJ 3.0L Portfolio, 2014, Diesel',\n",
       " 'Jaguar XJ L 3.0 V6 Portfolio, 2016, Diesel',\n",
       " 'Jaguar XF, 2011, Diesel',\n",
       " 'Jaguar XJ L 3.0L Portfolio, 2014, Diesel',\n",
       " 'Jaguar XF Diesel S V6, 2014, Diesel',\n",
       " 'Jaguar XF 3.0 Litre S Premium Luxury, 2013, Diesel',\n",
       " 'Range Rover',\n",
       " 'Jaguar XJ 2009-2013 5.0 L V8 Supercharged, 2010, Petrol',\n",
       " 'Jaguar F-Pace Prestige 2.0 Petrol, 2020, Petrol',\n",
       " 'Jaguar XF 2.2 Diesel, 2011, Diesel',\n",
       " 'Jaguar XF 2012 Diesel 60000 Km Driven (Black)',\n",
       " 'Jaguar XF 2.2 Diesel, 2013, Diesel',\n",
       " 'Jaguar XJ L 5.0 V8, 2010, Petrol',\n",
       " 'Jaguar XF Diesel S V6, 2011, Diesel',\n",
       " 'Jaguar XF 2.2 Diesel Luxury, 2013, Diesel',\n",
       " 'Jaguar XF 2011 Diesel',\n",
       " 'Jaguar XF 2014',\n",
       " 'Jaguar XE 2010 Diesel 75000 Km Driven',\n",
       " 'Jaguar XF 2.0 Petrol Portfolio, 2019, Petrol',\n",
       " 'Jaguar XF 2015 Diesel 36000 Km Driven',\n",
       " 'Jaguar XJL 2017 Diesel Well Maintained',\n",
       " 'Jaguar Others, 2019, Petrol',\n",
       " 'Jaguar XJ 2014 Diesel Good Condition',\n",
       " 'Jaguar XF 2.2 Diesel, 2014, Diesel',\n",
       " 'Jaguar XJ L 3.0 V6 Portfolio, 2016, Diesel',\n",
       " 'Jaguar XF Diesel S V6, 2014, Diesel',\n",
       " 'Jaguar XF 2011 Well Maintained',\n",
       " 'Jaguar XE 2018 Diesel Good Condition',\n",
       " 'Jaguar Others, 2020, Petrol',\n",
       " 'Jaguar XF 2.2 Diesel Luxury, 2013, Diesel',\n",
       " 'Jaguar XF 2.2 Litre Luxury, 2014, Diesel',\n",
       " 'Jaguar XF 2.2 Diesel, 2014, Diesel',\n",
       " 'Jaguar XF 2.2 Diesel, 2013, Diesel',\n",
       " 'Jaguar XF 2.2 Diesel, 2013, Diesel',\n",
       " 'Jaguar XF 2.2 Diesel, 2013, Diesel',\n",
       " 'Jaguar XF 2.2 Diesel Luxury, 2014, Diesel',\n",
       " 'Jaguar XF Portfolio 2.0, 2019, Petrol',\n",
       " 'Jaguar XJ L 2.0 Portfolio, 2019, Petrol',\n",
       " 'Jaguar XF 2.2 Diesel, 2013, Diesel',\n",
       " 'Jaguar XF 2.2 Diesel Luxury, 2015, Diesel',\n",
       " 'Jaguar XF 2.2 Diesel Luxury, 2014, Diesel',\n",
       " 'Jaguar XF 2.2 Diesel Luxury, 2015, Diesel',\n",
       " 'Jaguar XJL portfolio',\n",
       " 'Jaguar XJ L 3.0 V6 Portfolio, 2018, Diesel',\n",
       " 'Jaguar XF 2.2 Diesel Luxury, 2013, Diesel',\n",
       " 'Jaguar Others, 2017, Diesel',\n",
       " 'Jaguar XJ L 2.0 Portfolio, 2016, Petrol',\n",
       " 'Jaguar XF Diesel S V6, 2011, Diesel',\n",
       " 'Jaguar XF 2.2 Diesel, 2014, Diesel',\n",
       " 'Jaguar XF Petrol 2.0, 2017, Petrol',\n",
       " 'Jaguar XF 2.2 Diesel, 2013, Diesel']"
      ]
     },
     "execution_count": 28,
     "metadata": {},
     "output_type": "execute_result"
    }
   ],
   "source": [
    "aboutu1"
   ]
  },
  {
   "cell_type": "code",
   "execution_count": 29,
   "metadata": {},
   "outputs": [
    {
     "data": {
      "text/plain": [
       "(112, 112)"
      ]
     },
     "execution_count": 29,
     "metadata": {},
     "output_type": "execute_result"
    }
   ],
   "source": [
    "len(fuletype1),len(variant1)"
   ]
  },
  {
   "cell_type": "code",
   "execution_count": 30,
   "metadata": {},
   "outputs": [
    {
     "data": {
      "text/plain": [
       "112"
      ]
     },
     "execution_count": 30,
     "metadata": {},
     "output_type": "execute_result"
    }
   ],
   "source": [
    "len(carm1)"
   ]
  },
  {
   "cell_type": "code",
   "execution_count": 31,
   "metadata": {},
   "outputs": [
    {
     "data": {
      "text/plain": [
       "112"
      ]
     },
     "execution_count": 31,
     "metadata": {},
     "output_type": "execute_result"
    }
   ],
   "source": [
    "len(carm1)"
   ]
  },
  {
   "cell_type": "code",
   "execution_count": 32,
   "metadata": {},
   "outputs": [
    {
     "data": {
      "text/plain": [
       "112"
      ]
     },
     "execution_count": 32,
     "metadata": {},
     "output_type": "execute_result"
    }
   ],
   "source": [
    "len(priceu1)"
   ]
  },
  {
   "cell_type": "code",
   "execution_count": 33,
   "metadata": {},
   "outputs": [
    {
     "data": {
      "text/plain": [
       "112"
      ]
     },
     "execution_count": 33,
     "metadata": {},
     "output_type": "execute_result"
    }
   ],
   "source": [
    "len(priceu1)"
   ]
  },
  {
   "cell_type": "code",
   "execution_count": 34,
   "metadata": {},
   "outputs": [],
   "source": [
    "doc1=[]\n",
    "waste=[]\n",
    "doc1u=[]\n",
    "for i in range(len(priceu1)):\n",
    "    li=[carn1[i],carm1[i],variant1[i],fuletype1[i],year1[i],str(priceu1[i])+\" \"+\"Rs.\",kmtraveled1[i],place1[i],\"olx.com\"]\n",
    "    doc1.append(li)\n",
    "\n",
    "for i in doc1:\n",
    "    if \" \" in carname or \" \" in yup:\n",
    "        if int(fyear)<=i[4]<=int(tyear) and str(carname.split()[0]).lower() in str(i[0]).lower() or str(i[1])==\"NA\":\n",
    "            doc1u.append(i)\n",
    "        else:\n",
    "            waste.append(i)\n",
    "    else:\n",
    "        if int(fyear)<=i[4]<=int(tyear) and str(carname).lower() in str(i[0]).lower() or str(i[1])==\"NA\":\n",
    "            doc1u.append(i)\n",
    "        else:\n",
    "            waste.append(i)"
   ]
  },
  {
   "cell_type": "code",
   "execution_count": 35,
   "metadata": {
    "scrolled": true
   },
   "outputs": [
    {
     "data": {
      "text/plain": [
       "(68, 112)"
      ]
     },
     "execution_count": 35,
     "metadata": {},
     "output_type": "execute_result"
    }
   ],
   "source": [
    "len(doc1u),len(doc1)"
   ]
  },
  {
   "cell_type": "code",
   "execution_count": null,
   "metadata": {},
   "outputs": [],
   "source": []
  },
  {
   "cell_type": "code",
   "execution_count": 36,
   "metadata": {},
   "outputs": [],
   "source": [
    "doc1u=sorted(doc1u)\n",
    "for row in doc1u:\n",
    "    ws.append(row)\n",
    "#book.save(\"Used_Car_Data_.xlsx\")\n",
    "wb.save(\"Used_Car_Data_.xlsx\")\n"
   ]
  },
  {
   "cell_type": "code",
   "execution_count": null,
   "metadata": {},
   "outputs": [],
   "source": []
  },
  {
   "cell_type": "code",
   "execution_count": 37,
   "metadata": {},
   "outputs": [],
   "source": [
    "carname=carname\n",
    "carmodel=carmodel\n",
    "crmodel=carmodel\n",
    "if \"-\" in carmodel:\n",
    "    crmodel=carmodel.split(\"-\")\n",
    "    crmodel=\"%20\".join(crmodel)\n",
    "fyear=fyear\n",
    "tyear=tyear\n",
    "fuletype=fuletype"
   ]
  },
  {
   "cell_type": "code",
   "execution_count": 38,
   "metadata": {},
   "outputs": [
    {
     "name": "stdout",
     "output_type": "stream",
     "text": [
      "https://www.cars24.com/buy-used-car?year-range=2014-2020&sort=P&search=jaguar&storeCityId=8597\n"
     ]
    }
   ],
   "source": [
    "#url=\"https://www.cars24.com/buy-used-car?carName=\"+carname+\"%20\"+carmodel+\"&year-range=\"+fyear+\"-\"+tyear+\"&fuelType=\"+fuletype+\"&sort=P&storeCityId=8597\"\n",
    "#url=\"https://www.cars24.com/buy-used-car?carName=\"+carname+\"%20\"+carmodel+\"&year-range=\"+fyear+\"-\"+tyear+\"&sort=P&storeCityId=8597\"\n",
    "#url=\"https://www.cars24.com/buy-used-car?year-range=\"+fyear+\"-\"+tyear+\"&sort=P&search=\"+carname+\"%20\"+crmodel+\"&storeCityId=8597\"\n",
    "url=\"https://www.cars24.com/buy-used-car?year-range=\"+fyear+\"-\"+tyear+\"&sort=P&search=\"+carname+\"&storeCityId=8597\"\n",
    "print(url)\n",
    "web= webdriver.Chrome()\n",
    "web.get(url)"
   ]
  },
  {
   "cell_type": "code",
   "execution_count": 39,
   "metadata": {},
   "outputs": [],
   "source": [
    "box=web.find_element_by_xpath(\"/html/body/div[1]/div[5]/div/div/h3/div/img\")\n",
    "box.click()\n",
    "for i in range(True):\n",
    "    try:\n",
    "        web.execute_script('window.scrollTo(0, document.body.scrollHeight)')\n",
    "        time.sleep(3)\n",
    "    except:\n",
    "        break\n",
    "        pass\n",
    "time.sleep(10)\n",
    "t=web.find_element_by_xpath(\"/html/body/div[1]/div[2]/div/div[2]\")\n",
    "page_soup=bs(t.get_attribute('innerHTML'),\"html.parser\")"
   ]
  },
  {
   "cell_type": "code",
   "execution_count": null,
   "metadata": {},
   "outputs": [],
   "source": []
  },
  {
   "cell_type": "raw",
   "metadata": {},
   "source": [
    "req = Request(url , headers={'User-Agent': 'Mozilla/5.0'})\n",
    "\n",
    "webpage = urlopen(req).read()\n",
    "page_soup = bs(webpage, \"html.parser\")"
   ]
  },
  {
   "cell_type": "raw",
   "metadata": {},
   "source": [
    "for tag in page_soup.find_all(\"a\",{\"class\":\"_20d39\"}):\n",
    "    print(tag)"
   ]
  },
  {
   "cell_type": "code",
   "execution_count": null,
   "metadata": {},
   "outputs": [],
   "source": []
  },
  {
   "cell_type": "code",
   "execution_count": 40,
   "metadata": {},
   "outputs": [],
   "source": [
    "d=[]\n",
    "i=1\n",
    "price=[]\n",
    "kmtraveled=[]\n",
    "year=[]\n",
    "carn=[]\n",
    "carm=[]\n",
    "variant3=[]\n",
    "fuletype3=[]\n",
    "about=[]\n",
    "place3=[]\n",
    "detail=[]\n",
    "for data in page_soup.find_all(\"div\",{\"class\":\"_3ENhq\"}):\n",
    "    about.append(data.text)\n",
    "for data in page_soup.find_all(\"h3\",{\"class\":\"_6KkG6\"}):\n",
    "    price.append(data.text)\n",
    "for data in page_soup.find_all(\"div\",{\"class\":\"_Ecri\"}):\n",
    "    k=data.text.index(\"m\")\n",
    "    kmtraveled.append(data.text[:k+1])\n",
    "    f=data.text.index(\"O\")\n",
    "    fuletype3.append(data.text[k+1:f-4])\n",
    "for data in page_soup.find_all(\"div\",{\"class\":\"_3Ow7c\"}):\n",
    "    place3.append(data.text)"
   ]
  },
  {
   "cell_type": "code",
   "execution_count": 41,
   "metadata": {},
   "outputs": [
    {
     "data": {
      "text/plain": [
       "1"
      ]
     },
     "execution_count": 41,
     "metadata": {},
     "output_type": "execute_result"
    }
   ],
   "source": [
    "len(carname.split())"
   ]
  },
  {
   "cell_type": "code",
   "execution_count": 42,
   "metadata": {},
   "outputs": [],
   "source": [
    "for i in about:\n",
    "    '''\n",
    "    try:\n",
    "        v=i.lower()\n",
    "        c=carmodel.lower()\n",
    "        lc=len(c)\n",
    "        cv=v.index(c)\n",
    "        variant3.append(i[cv+lc:])\n",
    "    except:\n",
    "        variant3.append(\"NA\")\n",
    "    try:\n",
    "        v=i.lower()\n",
    "        c=carmodel.lower()\n",
    "        lc=len(c)\n",
    "        cv=v.index(c)\n",
    "        carm.append(i[cv:cv+lc])\n",
    "    except:\n",
    "        carm.append(\"NA\")\n",
    "    '''\n",
    "    carn.append(i[5:5+len(carname)])\n",
    "    i=i.split()\n",
    "    year.append(int(i[0]))\n",
    "    #carn.append(i[1:len(carname)])\n",
    "    try:\n",
    "        carm.append(i[1+len(carname.split())])\n",
    "    except:\n",
    "        carm.append(i[2])\n",
    "    cv=\" \".join(i[4:])\n",
    "    variant3.append(cv)\n",
    "price\n",
    "priceu2=[]\n",
    "for i in price:\n",
    "    i=i.replace(\",\",\"\")\n",
    "    i=i[2:]\n",
    "    i=int(i)\n",
    "    priceu2.append(i)"
   ]
  },
  {
   "cell_type": "code",
   "execution_count": 43,
   "metadata": {
    "scrolled": true
   },
   "outputs": [
    {
     "data": {
      "text/plain": [
       "['DIESEL',\n",
       " 'DIESEL',\n",
       " 'DIESEL',\n",
       " 'DIESEL',\n",
       " 'portfolio petrol',\n",
       " 'DIESEL',\n",
       " 'DIESEL',\n",
       " 'DIESEL PRESTIGE',\n",
       " 'PRESTIGE PETROL',\n",
       " 'DIESEL',\n",
       " 'DIESEL',\n",
       " '3.0 V 6 PORTFOLIO',\n",
       " '3.0 V 6 PREMIUM LUXURY',\n",
       " '3.0 V 6 PORTFOLIO']"
      ]
     },
     "execution_count": 43,
     "metadata": {},
     "output_type": "execute_result"
    }
   ],
   "source": [
    "variant3"
   ]
  },
  {
   "cell_type": "code",
   "execution_count": 44,
   "metadata": {},
   "outputs": [
    {
     "data": {
      "text/plain": [
       "14"
      ]
     },
     "execution_count": 44,
     "metadata": {},
     "output_type": "execute_result"
    }
   ],
   "source": [
    "len(variant3)"
   ]
  },
  {
   "cell_type": "code",
   "execution_count": 45,
   "metadata": {},
   "outputs": [
    {
     "data": {
      "text/plain": [
       "14"
      ]
     },
     "execution_count": 45,
     "metadata": {},
     "output_type": "execute_result"
    }
   ],
   "source": [
    "len(price)"
   ]
  },
  {
   "cell_type": "code",
   "execution_count": 46,
   "metadata": {},
   "outputs": [
    {
     "data": {
      "text/plain": [
       "14"
      ]
     },
     "execution_count": 46,
     "metadata": {},
     "output_type": "execute_result"
    }
   ],
   "source": [
    "len(place3)\n"
   ]
  },
  {
   "cell_type": "code",
   "execution_count": 47,
   "metadata": {},
   "outputs": [
    {
     "data": {
      "text/plain": [
       "14"
      ]
     },
     "execution_count": 47,
     "metadata": {},
     "output_type": "execute_result"
    }
   ],
   "source": [
    "len(fuletype3)"
   ]
  },
  {
   "cell_type": "code",
   "execution_count": 48,
   "metadata": {},
   "outputs": [],
   "source": [
    "doc2=[]\n",
    "for i in range(len(priceu2)):\n",
    "    li=[carn[i],carm[i],variant3[i],fuletype3[i],year[i],str(priceu2[i])+\" \"+\"Rs.\",kmtraveled[i],place3[i],\"CARS24.com\"]\n",
    "    doc2.append(li)\n",
    "docu2=[]\n",
    "for i in doc2:\n",
    "    if \" \" in carname or \" \" in yup:\n",
    "        if str(carname.split()[0]).lower() in str(i[0]).lower():\n",
    "            docu2.append(i)\n",
    "    else:\n",
    "        if str(carname).lower() in str(i[0]).lower():\n",
    "            docu2.append(i)"
   ]
  },
  {
   "cell_type": "code",
   "execution_count": 49,
   "metadata": {},
   "outputs": [
    {
     "data": {
      "text/plain": [
       "'jaguar'"
      ]
     },
     "execution_count": 49,
     "metadata": {},
     "output_type": "execute_result"
    }
   ],
   "source": [
    "(carname.split()[0]).lower()"
   ]
  },
  {
   "cell_type": "code",
   "execution_count": null,
   "metadata": {},
   "outputs": [],
   "source": []
  },
  {
   "cell_type": "code",
   "execution_count": 50,
   "metadata": {},
   "outputs": [
    {
     "data": {
      "text/plain": [
       "(14, 14)"
      ]
     },
     "execution_count": 50,
     "metadata": {},
     "output_type": "execute_result"
    }
   ],
   "source": [
    "len(doc2),len(docu2)"
   ]
  },
  {
   "cell_type": "code",
   "execution_count": null,
   "metadata": {},
   "outputs": [],
   "source": []
  },
  {
   "cell_type": "code",
   "execution_count": 51,
   "metadata": {},
   "outputs": [],
   "source": [
    "docu2=sorted(docu2)\n",
    "for row in docu2:\n",
    "    ws.append(row)\n",
    "wb.save(\"Used_Car_Data_.xlsx\")\n",
    "wb.close()"
   ]
  },
  {
   "cell_type": "code",
   "execution_count": null,
   "metadata": {},
   "outputs": [],
   "source": []
  },
  {
   "cell_type": "raw",
   "metadata": {},
   "source": [
    "\n",
    "for hi in range(len(about)-1):\n",
    "    a=\"A\"+str(i+1)\n",
    "    b=str(i-1)\n",
    "    worksheet.write(a,b)\n",
    "    a=\"B\"+str(i+1)\n",
    "    b=about2[hi]\n",
    "    worksheet.write(a,b)\n",
    "    a=\"C\"+str(i+1)\n",
    "    b=price2[hi]\n",
    "    worksheet.write(a,b)\n",
    "    a=\"D\"+str(i+1)\n",
    "    b=kmtraveled1[hi]\n",
    "    worksheet.write(a,b)\n",
    "    a=\"E\"+str(i+1)\n",
    "    b=str(\"Cars24.com\")\n",
    "    worksheet.write(a,b)\n",
    "    i=i+1\n",
    "    "
   ]
  },
  {
   "cell_type": "code",
   "execution_count": null,
   "metadata": {},
   "outputs": [],
   "source": []
  },
  {
   "cell_type": "code",
   "execution_count": null,
   "metadata": {},
   "outputs": [],
   "source": []
  },
  {
   "cell_type": "code",
   "execution_count": 52,
   "metadata": {},
   "outputs": [],
   "source": [
    "cardekhominimum=min(price)\n",
    "olxminimum=min(price1)\n",
    "indcardekho=price.index(cardekhominimum)\n",
    "indolx=price1.index(olxminimum)\n",
    "bestdealcardekho=str(about[indcardekho])+\" \"+str(price[indcardekho])+\" \"+str(kmtraveled[indcardekho])\n",
    "bestdealolx=str(about1[indolx])+\" \"+str(price1[indolx])+\" \"+str(kmtraveled1[indolx])"
   ]
  },
  {
   "cell_type": "code",
   "execution_count": 53,
   "metadata": {},
   "outputs": [
    {
     "data": {
      "text/plain": [
       "'₹ 19,75,000'"
      ]
     },
     "execution_count": 53,
     "metadata": {},
     "output_type": "execute_result"
    }
   ],
   "source": [
    "cardekhominimum"
   ]
  },
  {
   "cell_type": "code",
   "execution_count": 54,
   "metadata": {},
   "outputs": [],
   "source": [
    "import matplotlib.pyplot as plt"
   ]
  },
  {
   "cell_type": "code",
   "execution_count": 55,
   "metadata": {},
   "outputs": [
    {
     "ename": "ValueError",
     "evalue": "could not convert string to float: '₹ 19'",
     "output_type": "error",
     "traceback": [
      "\u001b[1;31m---------------------------------------------------------------------------\u001b[0m",
      "\u001b[1;31mValueError\u001b[0m                                Traceback (most recent call last)",
      "\u001b[1;32m<ipython-input-55-b34e8cd6e770>\u001b[0m in \u001b[0;36m<module>\u001b[1;34m\u001b[0m\n\u001b[0;32m      4\u001b[0m \u001b[0mvaluecardekho\u001b[0m\u001b[1;33m=\u001b[0m\u001b[0mcardekhominimum\u001b[0m\u001b[1;33m[\u001b[0m\u001b[1;33m:\u001b[0m\u001b[1;36m5\u001b[0m\u001b[1;33m]\u001b[0m\u001b[1;33m\u001b[0m\u001b[1;33m\u001b[0m\u001b[0m\n\u001b[0;32m      5\u001b[0m \u001b[0mvaluecardekho\u001b[0m\u001b[1;33m=\u001b[0m\u001b[0mvaluecardekho\u001b[0m\u001b[1;33m.\u001b[0m\u001b[0mreplace\u001b[0m\u001b[1;33m(\u001b[0m\u001b[1;34m\",\"\u001b[0m\u001b[1;33m,\u001b[0m\u001b[1;34m\"\"\u001b[0m\u001b[1;33m)\u001b[0m\u001b[1;33m\u001b[0m\u001b[1;33m\u001b[0m\u001b[0m\n\u001b[1;32m----> 6\u001b[1;33m \u001b[0mvaluecardekho\u001b[0m\u001b[1;33m=\u001b[0m\u001b[0mfloat\u001b[0m\u001b[1;33m(\u001b[0m\u001b[0mvaluecardekho\u001b[0m\u001b[1;33m)\u001b[0m\u001b[1;33m\u001b[0m\u001b[1;33m\u001b[0m\u001b[0m\n\u001b[0m\u001b[0;32m      7\u001b[0m \u001b[0mvaluecardekho\u001b[0m\u001b[1;33m=\u001b[0m\u001b[0mint\u001b[0m\u001b[1;33m(\u001b[0m\u001b[0mvaluecardekho\u001b[0m\u001b[1;33m*\u001b[0m\u001b[1;36m100000\u001b[0m\u001b[1;33m)\u001b[0m\u001b[1;33m\u001b[0m\u001b[1;33m\u001b[0m\u001b[0m\n\u001b[0;32m      8\u001b[0m \u001b[0mcompany\u001b[0m\u001b[1;33m=\u001b[0m\u001b[1;33m[\u001b[0m\u001b[1;34m\"olx\"\u001b[0m\u001b[1;33m,\u001b[0m\u001b[1;34m\"cardekho\"\u001b[0m\u001b[1;33m]\u001b[0m\u001b[1;33m\u001b[0m\u001b[1;33m\u001b[0m\u001b[0m\n",
      "\u001b[1;31mValueError\u001b[0m: could not convert string to float: '₹ 19'"
     ]
    }
   ],
   "source": [
    "valueolx=olxminimum[2:]\n",
    "valueolx=valueolx.replace(\",\",\"\")\n",
    "valueolx=int(valueolx)\n",
    "valuecardekho=cardekhominimum[:5]\n",
    "valuecardekho=valuecardekho.replace(\",\",\"\")\n",
    "valuecardekho=float(valuecardekho)\n",
    "valuecardekho=int(valuecardekho*100000)\n",
    "company=[\"olx\",\"cardekho\"]\n",
    "finalvalue=[valueolx,valuecardekho]\n",
    "plt.ylim(100000,2000000)\n",
    "plt.bar(company,finalvalue)"
   ]
  },
  {
   "cell_type": "code",
   "execution_count": null,
   "metadata": {},
   "outputs": [],
   "source": [
    "bestdealcardekho"
   ]
  },
  {
   "cell_type": "code",
   "execution_count": null,
   "metadata": {},
   "outputs": [],
   "source": [
    "bestdealolx"
   ]
  },
  {
   "cell_type": "code",
   "execution_count": null,
   "metadata": {},
   "outputs": [],
   "source": [
    "finalvalue"
   ]
  },
  {
   "cell_type": "code",
   "execution_count": null,
   "metadata": {},
   "outputs": [],
   "source": []
  },
  {
   "cell_type": "raw",
   "metadata": {},
   "source": [
    "str(city).lower() in str(i[7]).lower() and str(yup.split()[0]).lower() in str(i[1]).lower() \n",
    " str(city).lower() in str(i[7]).lower() and and str(yup).lower() in str(i[1]).lower() "
   ]
  },
  {
   "cell_type": "markdown",
   "metadata": {},
   "source": [
    "#### "
   ]
  }
 ],
 "metadata": {
  "kernelspec": {
   "display_name": "Python 3",
   "language": "python",
   "name": "python3"
  },
  "language_info": {
   "codemirror_mode": {
    "name": "ipython",
    "version": 3
   },
   "file_extension": ".py",
   "mimetype": "text/x-python",
   "name": "python",
   "nbconvert_exporter": "python",
   "pygments_lexer": "ipython3",
   "version": "3.7.3"
  }
 },
 "nbformat": 4,
 "nbformat_minor": 2
}
