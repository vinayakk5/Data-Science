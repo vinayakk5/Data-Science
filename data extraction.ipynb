{
 "cells": [
  {
   "cell_type": "code",
   "execution_count": 1,
   "metadata": {},
   "outputs": [],
   "source": [
    "from bs4 import BeautifulSoup as bs\n",
    "from selenium import webdriver\n",
    "import urllib\n",
    "from urllib.request import Request, urlopen\n",
    "import ssl\n",
    "import time\n",
    "import numpy\n",
    "from openpyxl import Workbook\n",
    "import openpyxl"
   ]
  },
  {
   "cell_type": "code",
   "execution_count": 2,
   "metadata": {},
   "outputs": [],
   "source": [
    "from selenium.webdriver.common.keys import Keys\n",
    "from selenium.webdriver.chrome.options import Options\n",
    "from selenium.webdriver.support.wait import WebDriverWait\n",
    "from selenium.webdriver.common.by import By\n",
    "from selenium.webdriver.support import expected_conditions as EC"
   ]
  },
  {
   "cell_type": "code",
   "execution_count": 3,
   "metadata": {},
   "outputs": [
    {
     "name": "stderr",
     "output_type": "stream",
     "text": [
      "C:\\Users\\Admin\\Anaconda3\\lib\\site-packages\\ipykernel_launcher.py:2: DeprecationWarning: Call to deprecated function get_sheet_by_name (Use wb[sheetname]).\n",
      "  \n"
     ]
    }
   ],
   "source": [
    "wb = openpyxl.load_workbook('u.xlsx')\n",
    "ws = wb.get_sheet_by_name('Sheet1')"
   ]
  },
  {
   "cell_type": "code",
   "execution_count": 4,
   "metadata": {},
   "outputs": [
    {
     "name": "stdout",
     "output_type": "stream",
     "text": [
      "CAR NAME:audi\n",
      "CAR MODEL:a\n",
      "FROM YEAR:2014\n",
      "TO YEAR2014\n",
      "FULE TYPE:d\n",
      "CITY:jaipur\n"
     ]
    },
    {
     "data": {
      "text/plain": [
       "'https://www.cardekho.com/used-audi+2014-2014-year+cars+in+jaipur'"
      ]
     },
     "execution_count": 4,
     "metadata": {},
     "output_type": "execute_result"
    }
   ],
   "source": [
    "carname=input(\"CAR NAME:\")\n",
    "carmodel=input(\"CAR MODEL:\")\n",
    "if \" \" in carname:\n",
    "    cname=carname.split()\n",
    "    cname=\"-\".join(cname)\n",
    "else:\n",
    "    cname=carname\n",
    "yup=carmodel\n",
    "if \" \" in carmodel:\n",
    "    carmodel=carmodel.split()\n",
    "    carmodel=\"-\".join(carmodel)\n",
    "cmodel=\"-\"+carmodel\n",
    "fyear=input(\"FROM YEAR:\")\n",
    "tyear=input(\"TO YEAR\")\n",
    "fuletype=input(\"FULE TYPE:\")\n",
    "city=input(\"CITY:\")\n",
    "#url=\"https://www.cardekho.com/used-\"+carname+\"-\"+carmodel+\"+\"+fyear+\"-\"+tyear+\"-year+\"+fuletype+\"+cars+in+\"+city\n",
    "url=\"https://www.cardekho.com/used-\"+cname+\"+\"+fyear+\"-\"+tyear+\"-year+cars+in+\"+city\n",
    "url"
   ]
  },
  {
   "cell_type": "code",
   "execution_count": 5,
   "metadata": {},
   "outputs": [],
   "source": [
    "web=webdriver.Chrome()\n",
    "web.get(url)\n",
    "web.execute_script('window.scrollTo(0, document.body.scrollHeight)')\n",
    "time.sleep(3)"
   ]
  },
  {
   "cell_type": "code",
   "execution_count": 6,
   "metadata": {},
   "outputs": [],
   "source": [
    "for i in range(True):\n",
    "    try:\n",
    "        web.execute_script('window.scrollTo(0, document.body.scrollHeight)')\n",
    "        time.sleep(3)\n",
    "    except:\n",
    "        break\n",
    "        pass\n",
    "#html = urlopen(req).read()\n",
    "time.sleep(5)\n",
    "t=web.find_element_by_class_name(\"listitems\")\n",
    "soup=bs(t.get_attribute('innerHTML'),\"html.parser\")\n"
   ]
  },
  {
   "cell_type": "code",
   "execution_count": 7,
   "metadata": {},
   "outputs": [],
   "source": [
    "i=2\n",
    "price=[]\n",
    "fuletype=[]\n",
    "kmtraveled=[]\n",
    "variant=[]\n",
    "carn=[]\n",
    "carm=[]\n",
    "year=[]\n",
    "about=[]\n",
    "place=[]\n",
    "for data in soup.find_all(\"div\",{\"class\":\"gsc_col-sm-12 gsc_col-md-12 trustmarkbox holder\"}):\n",
    "    for aa in data.find_all(\"div\",{\"class\":\"title\"}):\n",
    "        aa=aa.text\n",
    "        about.append(aa)\n",
    "    for div in data.find_all(\"div\",{\"class\":\"dotlist truncate\"}):\n",
    "        st=div.text\n",
    "        ind=st.index(\"km\")\n",
    "        kmtraveled.append(div.text[:ind+2])\n",
    "        sst=div.text.split(\"\\xa0\")\n",
    "        ftype=sst[1]\n",
    "        fuletype.append(ftype[:-2])\n",
    "    for span in data.find_all(\"span\",{\"class\":\"amnt\"}):\n",
    "        price.append(span.text)\n",
    "    for span in data.find_all(\"span\",{\"class\":\"truncate\"}):\n",
    "        place.append(span.text)\n",
    "aboutu=[]\n",
    "for i in about:\n",
    "    if \"New\" in i :\n",
    "        aboutu.append(i.replace(\"New\",\"\"))\n",
    "    else:\n",
    "        aboutu.append(i)\n",
    "for i in aboutu:\n",
    "    i=i.split()\n",
    "    year.append(int(i[0]))\n",
    "    carn.append(i[1])\n",
    "    ca=i[2]\n",
    "    carm.append(ca)\n",
    "    cv=i[3:]\n",
    "    cv=\" \".join(cv)\n",
    "    variant.append(cv)\n",
    "price\n",
    "priceu=[]\n",
    "for i in price:\n",
    "    i=i.split()\n",
    "    i=i[0]\n",
    "    i=float(i)\n",
    "    i=int(i*100000)\n",
    "    priceu.append(i)\n",
    "place\n",
    "placeu=[]\n",
    "for i in place:\n",
    "    i=i[4:]+\" \"+city\n",
    "    placeu.append(i)\n",
    "#placeu"
   ]
  },
  {
   "cell_type": "code",
   "execution_count": 8,
   "metadata": {},
   "outputs": [],
   "source": [
    "doc=[]\n",
    "for i in range(len(priceu)):\n",
    "    li=[carn[i],carm[i],variant[i],fuletype[i],year[i],str(priceu[i])+\" \"+\"Rs.\",kmtraveled[i],placeu[i],\"cardekho.com\"]\n",
    "    doc.append(li)\n",
    "    "
   ]
  },
  {
   "cell_type": "code",
   "execution_count": 9,
   "metadata": {},
   "outputs": [],
   "source": [
    "docu=[]\n",
    "for i in doc:\n",
    "    if \" \" in carname or \" \" in yup:\n",
    "        if str(carname.split()[0]).lower() in str(i[0]).lower():\n",
    "            docu.append(i)\n",
    "    else:\n",
    "        if str(carname).lower() in str(i[0]).lower():\n",
    "            docu.append(i)"
   ]
  },
  {
   "cell_type": "code",
   "execution_count": 10,
   "metadata": {},
   "outputs": [],
   "source": [
    "docu=sorted(docu)\n",
    "#conten=[\"Car Name\",\"Car Model\",\"Year\",\"Price\",\"Kilometer Traveled\",\"Place\",\"Source\"]\n",
    "#ws.append(conten)\n",
    "for row in docu:\n",
    "    ws.append(row)\n",
    "#book.save(\"Used_Car_Data_.xlsx\")\n",
    "wb.save(\"Used_Car_Data_.xlsx\")"
   ]
  },
  {
   "cell_type": "code",
   "execution_count": 11,
   "metadata": {},
   "outputs": [],
   "source": [
    "docu=sorted(docu)\n",
    "#conten=[\"Car Name\",\"Car Model\",\"Year\",\"Price\",\"Kilometer Traveled\",\"Place\",\"Source\"]\n",
    "#ws.append(conten)\n",
    "for row in docu:\n",
    "    ws.append(row)\n",
    "#book.save(\"Used_Car_Data_.xlsx\")\n",
    "wb.save(\"u.xlsx\")"
   ]
  },
  {
   "cell_type": "code",
   "execution_count": 12,
   "metadata": {},
   "outputs": [
    {
     "data": {
      "text/plain": [
       "'audi-jaipur'"
      ]
     },
     "execution_count": 12,
     "metadata": {},
     "output_type": "execute_result"
    }
   ],
   "source": [
    "carname=carname\n",
    "carmodel=carmodel\n",
    "year=tyear\n",
    "fuletype=fuletype\n",
    "city=city\n",
    "#final=carname+\" \"+carmodel+\" \"+year+\" \"+fuletype+\" \"+city\n",
    "final=carname+\" \"+city\n",
    "final=final.split()\n",
    "final=\"-\".join(final)\n",
    "final"
   ]
  },
  {
   "cell_type": "code",
   "execution_count": 13,
   "metadata": {},
   "outputs": [],
   "source": [
    "url=\"https://www.olx.in/olx-autos-cars_c5/q-\"+final+\"?isSearchCall=true\"\n",
    "web=webdriver.Chrome()\n",
    "web.get(url)\n",
    "\n",
    "time.sleep(3)\n",
    "while True:\n",
    "    try:\n",
    "        box = WebDriverWait(web, 10).until(EC.presence_of_element_located((By.XPATH,\"//button[@data-aut-id='btnLoadMore']\")))\n",
    "        box.click() \n",
    "    except:\n",
    "        break\n",
    "time.sleep(5)\n",
    "t=web.find_element_by_xpath('//*[@id=\"container\"]/main/div/div/section/div/div/div[4]/div[2]/div/div[2]')\n",
    "soup=bs(t.get_attribute('innerHTML'),\"html.parser\")"
   ]
  },
  {
   "cell_type": "code",
   "execution_count": 14,
   "metadata": {},
   "outputs": [],
   "source": [
    "d=[]\n",
    "variant1=[]\n",
    "fuletype1=[]\n",
    "price1=[]\n",
    "carn1=[]\n",
    "carm1=[]\n",
    "kmtraveled1=[]\n",
    "about1=[]\n",
    "year1=[]\n",
    "place1=[]\n",
    "detail1=[]\n",
    "for tag in soup.find_all(\"ul\",{\"class\":\"rl3f9 _3mXOU\"}):\n",
    "    for data in tag.find_all(\"div\",{\"class\":\"IKo3_\"}):\n",
    "        d.append(data)\n",
    "        detail1.append(data.text)\n",
    "        #print(data)\n",
    "        for span in data.find_all(\"span\",{\"class\":\"_89yzn\"}):\n",
    "            price1.append(span.text)\n",
    "        for span in data.find_all(\"span\",{\"class\":\"_2TVI3\"}):\n",
    "            oo=span.text.split(\"-\")\n",
    "            year1.append(int(oo[0][:4]))\n",
    "            kmtraveled1.append(oo[1]) \n",
    "        for span in data.find_all(\"span\",{\"class\":\"_2tW1I\"}):\n",
    "            about1.append(span.text)\n",
    "        for span in data.find_all(\"span\",{\"class\":\"tjgMj\"}):\n",
    "            place1.append(span.text)\n",
    "priceu1=[]\n",
    "for i in price1:\n",
    "    i=i.replace(\",\",\"\")\n",
    "    i=i[2:]\n",
    "    i=int(i)\n",
    "    priceu1.append(i)\n",
    "about1\n",
    "aboutu1=[]\n",
    "for i in about1:\n",
    "    if \"New\" in i :\n",
    "        aboutu1.append(i.replace(\"New\",\"\"))\n",
    "    else:\n",
    "        aboutu1.append(i)\n",
    "for i in aboutu1:\n",
    "    i=i.split(\" \")\n",
    "    carn1.append(i[0])\n",
    "    fule=i[-1]\n",
    "    if fule==\"Diesel\" or fule==\"Petrol\":\n",
    "        fuletype1.append(fule)\n",
    "    elif \"Diesel\" in i:\n",
    "        fuletype1.append(\"Diesel\")\n",
    "    elif \"Petrol\" in i:\n",
    "        fuletype1.append(\"Petrol\")\n",
    "    else:\n",
    "        fuletype1.append(\"NA\")\n",
    "    ia=i[:-1]\n",
    "    ia=ia[:-1]\n",
    "    try:\n",
    "        model=ia[1]\n",
    "    except:\n",
    "        model=\"NA\"\n",
    "    cv=ia[2:]\n",
    "    cv=\" \".join(cv)\n",
    "    carm1.append(model)\n",
    "    if len(cv)<1:\n",
    "        variant1.append(\"NA\")\n",
    "    else:\n",
    "        variant1.append(cv)\n"
   ]
  },
  {
   "cell_type": "code",
   "execution_count": 15,
   "metadata": {},
   "outputs": [],
   "source": [
    "doc1=[]\n",
    "waste=[]\n",
    "doc1u=[]\n",
    "for i in range(len(priceu1)):\n",
    "    li=[carn1[i],carm1[i],variant1[i],fuletype1[i],year1[i],str(priceu1[i])+\" \"+\"Rs.\",kmtraveled1[i],place1[i],\"olx.com\"]\n",
    "    doc1.append(li)\n",
    "\n",
    "for i in doc1:\n",
    "    if \" \" in carname or \" \" in yup:\n",
    "        if int(fyear)<=i[4]<=int(tyear) and str(carname.split()[0]).lower() in str(i[0]).lower() or str(i[1])==\"NA\":\n",
    "            doc1u.append(i)\n",
    "        else:\n",
    "            waste.append(i)\n",
    "    else:\n",
    "        if int(fyear)<=i[4]<=int(tyear) and str(carname).lower() in str(i[0]).lower() or str(i[1])==\"NA\":\n",
    "            doc1u.append(i)\n",
    "        else:\n",
    "            waste.append(i)"
   ]
  },
  {
   "cell_type": "code",
   "execution_count": 16,
   "metadata": {},
   "outputs": [],
   "source": [
    "doc1u=sorted(doc1u)\n",
    "conten=[\"Car Name\",\"Car Model\",\"Year\",\"Price\",\"Kilometer Traveled\",\"Place\",\"Source\"]\n",
    "ws.append(conten)\n",
    "for row in doc1u:\n",
    "    ws.append(row)\n",
    "#book.save(\"Used_Car_Data_.xlsx\")\n",
    "wb.save(\"u.xlsx\")\n"
   ]
  },
  {
   "cell_type": "code",
   "execution_count": 17,
   "metadata": {},
   "outputs": [],
   "source": [
    "carname=carname\n",
    "carmodel=carmodel\n",
    "crmodel=carmodel\n",
    "if \"-\" in carmodel:\n",
    "    crmodel=carmodel.split(\"-\")\n",
    "    crmodel=\"%20\".join(crmodel)\n",
    "fyear=fyear\n",
    "tyear=tyear\n",
    "fuletype=fuletype"
   ]
  },
  {
   "cell_type": "code",
   "execution_count": 18,
   "metadata": {},
   "outputs": [
    {
     "name": "stdout",
     "output_type": "stream",
     "text": [
      "https://www.cars24.com/buy-used-car?year-range=2014-2014&sort=P&search=audi&storeCityId=8597\n"
     ]
    }
   ],
   "source": [
    "#url=\"https://www.cars24.com/buy-used-car?carName=\"+carname+\"%20\"+carmodel+\"&year-range=\"+fyear+\"-\"+tyear+\"&fuelType=\"+fuletype+\"&sort=P&storeCityId=8597\"\n",
    "#url=\"https://www.cars24.com/buy-used-car?carName=\"+carname+\"%20\"+carmodel+\"&year-range=\"+fyear+\"-\"+tyear+\"&sort=P&storeCityId=8597\"\n",
    "#url=\"https://www.cars24.com/buy-used-car?year-range=\"+fyear+\"-\"+tyear+\"&sort=P&search=\"+carname+\"%20\"+crmodel+\"&storeCityId=8597\"\n",
    "url=\"https://www.cars24.com/buy-used-car?year-range=\"+fyear+\"-\"+tyear+\"&sort=P&search=\"+carname+\"&storeCityId=8597\"\n",
    "print(url)\n",
    "web= webdriver.Chrome()\n",
    "web.get(url)"
   ]
  },
  {
   "cell_type": "code",
   "execution_count": 19,
   "metadata": {},
   "outputs": [],
   "source": [
    "box=web.find_element_by_xpath(\"/html/body/div[1]/div[5]/div/div/h3/div/img\")\n",
    "box.click()\n",
    "for i in range(True):\n",
    "    try:\n",
    "        web.execute_script('window.scrollTo(0, document.body.scrollHeight)')\n",
    "        time.sleep(3)\n",
    "    except:\n",
    "        break\n",
    "        pass\n",
    "time.sleep(10)\n",
    "t=web.find_element_by_xpath(\"/html/body/div[1]/div[2]/div/div[2]\")\n",
    "page_soup=bs(t.get_attribute('innerHTML'),\"html.parser\")"
   ]
  },
  {
   "cell_type": "code",
   "execution_count": 20,
   "metadata": {},
   "outputs": [],
   "source": [
    "d=[]\n",
    "i=1\n",
    "price=[]\n",
    "kmtraveled=[]\n",
    "year=[]\n",
    "carn=[]\n",
    "carm=[]\n",
    "variant3=[]\n",
    "fuletype3=[]\n",
    "about=[]\n",
    "place3=[]\n",
    "detail=[]\n",
    "for data in page_soup.find_all(\"div\",{\"class\":\"_3ENhq\"}):\n",
    "    about.append(data.text)\n",
    "for data in page_soup.find_all(\"h3\",{\"class\":\"_6KkG6\"}):\n",
    "    price.append(data.text)\n",
    "for data in page_soup.find_all(\"div\",{\"class\":\"_Ecri\"}):\n",
    "    k=data.text.index(\"m\")\n",
    "    kmtraveled.append(data.text[:k+1])\n",
    "    f=data.text.index(\"O\")\n",
    "    fuletype3.append(data.text[k+1:f-4])\n",
    "for data in page_soup.find_all(\"div\",{\"class\":\"_3Ow7c\"}):\n",
    "    place3.append(data.text)\n",
    "for i in about:\n",
    "    carn.append(i[5:5+len(carname)])\n",
    "    i=i.split()\n",
    "    year.append(int(i[0]))\n",
    "    #carn.append(i[1:len(carname)])\n",
    "    try:\n",
    "        carm.append(i[1+len(carname.split())])\n",
    "    except:\n",
    "        carm.append(i[2])\n",
    "    cv=\" \".join(i[4:])\n",
    "    variant3.append(cv)\n",
    "price\n",
    "priceu2=[]\n",
    "for i in price:\n",
    "    i=i.replace(\",\",\"\")\n",
    "    i=i[2:]\n",
    "    i=int(i)\n",
    "    priceu2.append(i)"
   ]
  },
  {
   "cell_type": "code",
   "execution_count": 21,
   "metadata": {},
   "outputs": [],
   "source": [
    "doc2=[]\n",
    "for i in range(len(priceu2)):\n",
    "    li=[carn[i],carm[i],variant3[i],fuletype3[i],year[i],str(priceu2[i])+\" \"+\"Rs.\",kmtraveled[i],place3[i],\"CARS24.com\"]\n",
    "    doc2.append(li)\n",
    "docu2=[]\n",
    "for i in doc2:\n",
    "    if \" \" in carname or \" \" in yup:\n",
    "        if str(carname.split()[0]).lower() in str(i[0]).lower():\n",
    "            docu2.append(i)\n",
    "    else:\n",
    "        if str(carname).lower() in str(i[0]).lower():\n",
    "            docu2.append(i)"
   ]
  },
  {
   "cell_type": "code",
   "execution_count": 22,
   "metadata": {},
   "outputs": [],
   "source": [
    "docu2=sorted(docu2)\n",
    "for row in docu2:\n",
    "    ws.append(row)\n",
    "wb.save(\"u.xlsx\")\n",
    "wb.close()"
   ]
  },
  {
   "cell_type": "code",
   "execution_count": null,
   "metadata": {},
   "outputs": [],
   "source": []
  }
 ],
 "metadata": {
  "kernelspec": {
   "display_name": "Python 3",
   "language": "python",
   "name": "python3"
  },
  "language_info": {
   "codemirror_mode": {
    "name": "ipython",
    "version": 3
   },
   "file_extension": ".py",
   "mimetype": "text/x-python",
   "name": "python",
   "nbconvert_exporter": "python",
   "pygments_lexer": "ipython3",
   "version": "3.7.3"
  }
 },
 "nbformat": 4,
 "nbformat_minor": 2
}
